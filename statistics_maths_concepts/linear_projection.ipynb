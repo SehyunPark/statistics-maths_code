{
 "cells": [
  {
   "cell_type": "code",
   "execution_count": 1,
   "id": "69d275c3",
   "metadata": {},
   "outputs": [],
   "source": [
    "import numpy as np\n",
    "\n",
    "def myProjection_coordinates(v, w):\n",
    "  #v를 w에 project\n",
    "\n",
    "  value = np.dot(v,w)/np.linalg.norm(w)\n",
    "  hat = w / np.linalg.norm(w)\n",
    "  return value*hat\n",
    "\n",
    "def myProjection_norm(v, w):\n",
    "  #v를 w에 project\n",
    "\n",
    "  value = np.dot(v,w)/np.linalg.norm(w)\n",
    "  return value"
   ]
  },
  {
   "cell_type": "markdown",
   "id": "faf2bc4d",
   "metadata": {},
   "source": [
    "- example"
   ]
  },
  {
   "cell_type": "code",
   "execution_count": 2,
   "id": "e71a2c90",
   "metadata": {},
   "outputs": [
    {
     "name": "stdout",
     "output_type": "stream",
     "text": [
      "[5.5 5.5]\n",
      "7.7781745930520225\n"
     ]
    }
   ],
   "source": [
    "v = [7, 4]\n",
    "w = [5, 5]\n",
    "\n",
    "print(myProjection_coordinates(v, w))\n",
    "print(myProjection_norm(v, w))"
   ]
  }
 ],
 "metadata": {
  "kernelspec": {
   "display_name": "Python 3 (ipykernel)",
   "language": "python",
   "name": "python3"
  },
  "language_info": {
   "codemirror_mode": {
    "name": "ipython",
    "version": 3
   },
   "file_extension": ".py",
   "mimetype": "text/x-python",
   "name": "python",
   "nbconvert_exporter": "python",
   "pygments_lexer": "ipython3",
   "version": "3.8.3"
  },
  "toc": {
   "base_numbering": 1,
   "nav_menu": {},
   "number_sections": true,
   "sideBar": true,
   "skip_h1_title": false,
   "title_cell": "Table of Contents",
   "title_sidebar": "Contents",
   "toc_cell": false,
   "toc_position": {},
   "toc_section_display": true,
   "toc_window_display": false
  }
 },
 "nbformat": 4,
 "nbformat_minor": 5
}
